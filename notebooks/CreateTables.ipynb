{
 "cells": [
  {
   "cell_type": "markdown",
   "id": "4a702ca2",
   "metadata": {},
   "source": [
    "# Create tables in AWS DynamoDb\n"
   ]
  },
  {
   "cell_type": "code",
   "execution_count": null,
   "id": "1e2233c4",
   "metadata": {},
   "outputs": [],
   "source": [
    "import json\n",
    "import requests\n",
    "import csv\n",
    "import io\n",
    "import os\n",
    "import pandas as pd\n",
    "import numpy as np\n",
    "from tqdm import tqdm"
   ]
  },
  {
   "cell_type": "code",
   "execution_count": null,
   "id": "be04e01a",
   "metadata": {},
   "outputs": [],
   "source": [
    "FILEPATH = \"../data\"\n",
    "\n",
    "class PubChemBioAssayRecordFromCsv(object):\n",
    "    def __init__(self, assay_id):\n",
    "        self.assay_id = assay_id\n",
    "        result = requests.get(\"https://pubchem.ncbi.nlm.nih.gov/rest/pug/assay/aid/{0}/CSV\".format(self.assay_id))\n",
    "        self.record = result.text\n",
    "        \n",
    "    def save_csv(self):\n",
    "        with open (os.path.join(FILEPATH, \"pubchem_aid{0}.csv\".format(self.assay_id)),\"w\") as f:\n",
    "            f.write(self.record)\n",
    "    \n",
    "    def csv2df(self):\n",
    "        result = io. StringIO(self.record)\n",
    "        df = pd.read_csv(result, sep=\",\")\n",
    "        st_cols = []\n",
    "        exp_cols = []\n",
    "        for c in list(df.columns):\n",
    "            if \"PUBCHEM\" in c:\n",
    "                st_cols += [c]\n",
    "            else:\n",
    "                exp_cols += [c]\n",
    "                df[\"{}_TYPE\".format(c)] = np.nan*(df.shape[0])\n",
    "                df[\"{}_DESCR\".format(c)] = np.nan*(df.shape[0])\n",
    "                df[\"{}_UNIT\".format(c)] = np.nan*(df.shape[0])\n",
    "        return df, st_cols, exp_cols\n",
    "    \n",
    "    def get_smiles_from_cid(self):\n",
    "        df = self.csv2df"
   ]
  },
  {
   "cell_type": "code",
   "execution_count": null,
   "id": "4e705ae7",
   "metadata": {},
   "outputs": [],
   "source": [
    "r = PubChemBioAssayRecordFromCsv(400)"
   ]
  },
  {
   "cell_type": "code",
   "execution_count": null,
   "id": "2573c1a6",
   "metadata": {},
   "outputs": [],
   "source": [
    "df, st_cols, exp_cols = r.csv2df()"
   ]
  },
  {
   "cell_type": "code",
   "execution_count": null,
   "id": "40da8f91",
   "metadata": {},
   "outputs": [],
   "source": [
    "exp_cols"
   ]
  },
  {
   "cell_type": "code",
   "execution_count": null,
   "id": "441d77f5",
   "metadata": {},
   "outputs": [],
   "source": [
    "cols_to_order = []\n",
    "for c in df.columns:\n",
    "    if \"PUBCHEM\" not in c:\n",
    "        cols_to_order += [c]"
   ]
  },
  {
   "cell_type": "code",
   "execution_count": null,
   "id": "6f66dcfd",
   "metadata": {},
   "outputs": [],
   "source": [
    "new_order = []\n",
    "\n",
    "for c in exp_cols:\n",
    "    for c2 in cols_to_order:\n",
    "        if c in c2:\n",
    "            new_order += [c2]\n",
    "all_cols = st_cols + new_order\n",
    "all_cols\n",
    "\n",
    "df = df[all_cols]\n",
    "\n",
    "for c in exp_cols:\n",
    "    df[0][c]"
   ]
  },
  {
   "cell_type": "markdown",
   "id": "eb8d4a6b",
   "metadata": {},
   "source": [
    "<xs:enumeration value=\"ppt\" ncbi:intvalue=\"1\"/>\n",
    "<xs:enumeration value=\"ppm\" ncbi:intvalue=\"2\"/>\n",
    "<xs:enumeration value=\"ppb\" ncbi:intvalue=\"3\"/>\n",
    "<xs:enumeration value=\"mm\" ncbi:intvalue=\"4\"/>\n",
    "<xs:enumeration value=\"um\" ncbi:intvalue=\"5\"/>\n",
    "<xs:enumeration value=\"nm\" ncbi:intvalue=\"6\"/>\n",
    "<xs:enumeration value=\"pm\" ncbi:intvalue=\"7\"/>\n",
    "<xs:enumeration value=\"fm\" ncbi:intvalue=\"8\"/>\n",
    "<xs:enumeration value=\"mgml\" ncbi:intvalue=\"9\"/>\n",
    "<xs:enumeration value=\"ugml\" ncbi:intvalue=\"10\"/>\n",
    "<xs:enumeration value=\"ngml\" ncbi:intvalue=\"11\"/>\n",
    "<xs:enumeration value=\"pgml\" ncbi:intvalue=\"12\"/>\n",
    "<xs:enumeration value=\"fgml\" ncbi:intvalue=\"13\"/>\n",
    "<xs:enumeration value=\"m\" ncbi:intvalue=\"14\"/>\n",
    "<xs:enumeration value=\"percent\" ncbi:intvalue=\"15\"/>\n",
    "<xs:enumeration value=\"ratio\" ncbi:intvalue=\"16\"/>\n",
    "<xs:enumeration value=\"sec\" ncbi:intvalue=\"17\"/>\n",
    "<xs:enumeration value=\"rsec\" ncbi:intvalue=\"18\"/>\n",
    "<xs:enumeration value=\"min\" ncbi:intvalue=\"19\"/>\n",
    "<xs:enumeration value=\"rmin\" ncbi:intvalue=\"20\"/>\n",
    "<xs:enumeration value=\"day\" ncbi:intvalue=\"21\"/>\n",
    "<xs:enumeration value=\"rday\" ncbi:intvalue=\"22\"/>\n",
    "<xs:enumeration value=\"ml-min-kg\" ncbi:intvalue=\"23\"/>\n",
    "<xs:enumeration value=\"l-kg\" ncbi:intvalue=\"24\"/>\n",
    "<xs:enumeration value=\"hr-ng-ml\" ncbi:intvalue=\"25\"/>\n",
    "<xs:enumeration value=\"cm-sec\" ncbi:intvalue=\"26\"/>\n",
    "<xs:enumeration value=\"mg-kg\" ncbi:intvalue=\"27\"/>\n",
    "<xs:enumeration value=\"none\" ncbi:intvalue=\"254\"/>\n",
    "<xs:enumeration value=\"unspecified\" ncbi:intvalue=\"255\"/"
   ]
  }
 ],
 "metadata": {
  "kernelspec": {
   "display_name": "Python 3",
   "language": "python",
   "name": "python3"
  },
  "language_info": {
   "codemirror_mode": {
    "name": "ipython",
    "version": 3
   },
   "file_extension": ".py",
   "mimetype": "text/x-python",
   "name": "python",
   "nbconvert_exporter": "python",
   "pygments_lexer": "ipython3",
   "version": "3.7.3"
  }
 },
 "nbformat": 4,
 "nbformat_minor": 5
}
